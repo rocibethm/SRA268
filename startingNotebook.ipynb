{
  "nbformat": 4,
  "nbformat_minor": 0,
  "metadata": {
    "colab": {
      "name": "startingNotebook.ipynb",
      "provenance": [],
      "authorship_tag": "ABX9TyOQhxX1uCJhBvGqEEMlL0Dq",
      "include_colab_link": true
    },
    "kernelspec": {
      "name": "python3",
      "display_name": "Python 3"
    }
  },
  "cells": [
    {
      "cell_type": "markdown",
      "metadata": {
        "id": "view-in-github",
        "colab_type": "text"
      },
      "source": [
        "<a href=\"https://colab.research.google.com/github/rocibethm/SRA268/blob/master/startingNotebook.ipynb\" target=\"_parent\"><img src=\"https://colab.research.google.com/assets/colab-badge.svg\" alt=\"Open In Colab\"/></a>"
      ]
    },
    {
      "cell_type": "code",
      "metadata": {
        "id": "Oam1HRTx4uEQ",
        "colab_type": "code",
        "colab": {
          "base_uri": "https://localhost:8080/",
          "height": 34
        },
        "outputId": "9d2b2e4f-8de3-4132-d8f2-1237b3a4fd23"
      },
      "source": [
        "2+2"
      ],
      "execution_count": 1,
      "outputs": [
        {
          "output_type": "execute_result",
          "data": {
            "text/plain": [
              "4"
            ]
          },
          "metadata": {
            "tags": []
          },
          "execution_count": 1
        }
      ]
    },
    {
      "cell_type": "markdown",
      "metadata": {
        "id": "Q8kxTMoP54VS",
        "colab_type": "text"
      },
      "source": [
        "#Abstract\n"
      ]
    },
    {
      "cell_type": "markdown",
      "metadata": {
        "id": "yDE11wLv58Kx",
        "colab_type": "text"
      },
      "source": [
        "something in the abstract"
      ]
    },
    {
      "cell_type": "markdown",
      "metadata": {
        "id": "rQbh05WJ5-3c",
        "colab_type": "text"
      },
      "source": [
        "#introduction\n"
      ]
    },
    {
      "cell_type": "markdown",
      "metadata": {
        "id": "GBW9fE-j6Cdh",
        "colab_type": "text"
      },
      "source": [
        "![no image here](https://raw.githubusercontent.com/rocibethm/SRA268/master/images/BB98607A-50F1-44E8-9B54-982A0C308A7F.jpg)"
      ]
    },
    {
      "cell_type": "markdown",
      "metadata": {
        "id": "oWQ4cBRw9S-w",
        "colab_type": "text"
      },
      "source": [
        ""
      ]
    }
  ]
}