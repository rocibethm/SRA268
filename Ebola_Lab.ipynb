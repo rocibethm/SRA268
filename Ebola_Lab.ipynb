{
  "nbformat": 4,
  "nbformat_minor": 0,
  "metadata": {
    "colab": {
      "name": "Ebola Lab.ipynb",
      "provenance": [],
      "include_colab_link": true
    },
    "kernelspec": {
      "name": "python3",
      "display_name": "Python 3"
    }
  },
  "cells": [
    {
      "cell_type": "markdown",
      "metadata": {
        "id": "view-in-github",
        "colab_type": "text"
      },
      "source": [
        "<a href=\"https://colab.research.google.com/github/rocibethm/SRA268/blob/master/Ebola_Lab.ipynb\" target=\"_parent\"><img src=\"https://colab.research.google.com/assets/colab-badge.svg\" alt=\"Open In Colab\"/></a>"
      ]
    },
    {
      "cell_type": "markdown",
      "metadata": {
        "id": "Kw5PZBtl0Ob6",
        "colab_type": "text"
      },
      "source": [
        "# The Spread Of Ebola 2014-2016 VS Coronavirus 2020"
      ]
    },
    {
      "cell_type": "markdown",
      "metadata": {
        "id": "iXWAmSVB0Rno",
        "colab_type": "text"
      },
      "source": [
        "Contributors:\n",
        "\n",
        "\n",
        "*   Trevor Jean Baptiste\n",
        "*   Rocibeth Mendiola\n",
        "*   William Heath\n",
        "\n",
        "\n"
      ]
    },
    {
      "cell_type": "markdown",
      "metadata": {
        "id": "WpaW-i5l0ZHn",
        "colab_type": "text"
      },
      "source": [
        "## Background"
      ]
    },
    {
      "cell_type": "markdown",
      "metadata": {
        "id": "E4VKsOvP0eev",
        "colab_type": "text"
      },
      "source": [
        "Today, we are living through one the worst pandemic to ever exist. The Coronavirus disease (COVID-19) is a highly contagious and infectious disease that has to date claimed the lives of approximately two-hundred thousand lives around the world. COVID-19 has been mainly transmitted through coughing and sneezing of those that are infected with the virus. Once infected, individuals are either asymptomatic or can show little to severe signs of the disease. Just like the Coronavirus disease, back in 2014-2016 the world faced another infectious viral disease, which was the Ebola disease outbreak. The Ebola outbreak originated from West Africa and spread throughout the content of Africa before it reached the rest of the world. Once contracted, those infected had a 50% chance of dying. For the purposes of this project, we will be comparing how the Coronavirus Disease (COVID-19) differentiates to the impact of the Ebola outbreak around the world. Both of these diseases impacted the world in different ways and both of these diseases impacted the world on different scales. The following project compares and examines how the outbreak spread over time during the lifetime of both of the viruses. The data collected and analyzed will show the how the spread of each virus impacted countries around the world. \n",
        "\n"
      ]
    },
    {
      "cell_type": "markdown",
      "metadata": {
        "id": "7d8vfcGufV0_",
        "colab_type": "text"
      },
      "source": [
        "### Goal"
      ]
    },
    {
      "cell_type": "markdown",
      "metadata": {
        "id": "e1jKSGTjfY2H",
        "colab_type": "text"
      },
      "source": [
        "The goal of the project is to see the effects of each of the viruses. The graphs mainly help us see how fast both viruses have spread globally and how many countries were affected at the time."
      ]
    },
    {
      "cell_type": "markdown",
      "metadata": {
        "id": "GOxy_TvCfi54",
        "colab_type": "text"
      },
      "source": [
        "### Assumptions"
      ]
    },
    {
      "cell_type": "markdown",
      "metadata": {
        "id": "cw1v_1MMfnAR",
        "colab_type": "text"
      },
      "source": [
        "\n",
        "*   Healthcare\n",
        "*   Economic impact\n",
        "*   Number of deaths\n",
        "*   Number of recoveries\n",
        "*   Number of infections\n",
        "*   Pandemic\n",
        "*   Epidemic\n",
        "*   Travel\n",
        "*   How contagious/manegable it is\n",
        "*   Vaccinations\n",
        "\n"
      ]
    },
    {
      "cell_type": "markdown",
      "metadata": {
        "id": "jKGILpu7gWr6",
        "colab_type": "text"
      },
      "source": [
        "### Data Sources"
      ]
    },
    {
      "cell_type": "markdown",
      "metadata": {
        "id": "uwCao7AtgbNn",
        "colab_type": "text"
      },
      "source": [
        "The three data sources we used to complete this project is kaggle, the World Health Organization and John Hopkins COVID19 data for our lab on the Ebola virus and how it have spread to various African countries and some European countries compare to COVID19. Our group choose to use kaggle and the World Health Organization because they're both very reliable sources and are always maintain and updated on the regular. We also use our past lab animation on the spread of COVID19 to compare and contrast COVID19 and the Ebola epidemic. On this assignment we did not join the sources together but we used all of them concertedly. Our team made sure that all the sources were credited in this project and no work was plagarised."
      ]
    },
    {
      "cell_type": "markdown",
      "metadata": {
        "id": "kDgSdoQUgg2Z",
        "colab_type": "text"
      },
      "source": [
        "#### Sources"
      ]
    },
    {
      "cell_type": "markdown",
      "metadata": {
        "id": "dFzYIi0Agi2_",
        "colab_type": "text"
      },
      "source": [
        "Kaggle Data Set: https://www.kaggle.com/imdevskp/ebola-outbreak-20142016-complete-dataset\n",
        "\n",
        "World Health Organization : https://www.who.int/news-room/fact-sheets/detail/\n",
        "ebola-virus-disease\n",
        "\n",
        "COVID19 graph : https://colab.research.google.com/drive/1FSa-PW16uNzO8ePD_t4IZCvPOzYcRC12"
      ]
    },
    {
      "cell_type": "markdown",
      "metadata": {
        "id": "qcFak2v7g3jt",
        "colab_type": "text"
      },
      "source": [
        "## Dashboard (5)"
      ]
    },
    {
      "cell_type": "code",
      "metadata": {
        "id": "knG79vNP0Q0u",
        "colab_type": "code",
        "outputId": "9eb90a6d-d26e-47ab-fbb2-7c0d15548a2a",
        "colab": {
          "base_uri": "https://localhost:8080/",
          "height": 1000
        }
      },
      "source": [
        "import IPython\n",
        "IPython.display.HTML(\"<div class='tableauPlaceholder' id='viz1587603522067' style='position: relative'><noscript><a href=''><img alt=' ' src='https:&#47;&#47;public.tableau.com&#47;static&#47;images&#47;5C&#47;5C5XS82FR&#47;1_rss.png' style='border: none' /></a></noscript><object class='tableauViz'  style='display:none;'><param name='host_url' value='https%3A%2F%2Fpublic.tableau.com%2F' /> <param name='embed_code_version' value='3' /> <param name='path' value='shared&#47;5C5XS82FR' /> <param name='toolbar' value='yes' /><param name='static_image' value='https:&#47;&#47;public.tableau.com&#47;static&#47;images&#47;5C&#47;5C5XS82FR&#47;1.png' /> <param name='animate_transition' value='yes' /><param name='display_static_image' value='yes' /><param name='display_spinner' value='yes' /><param name='display_overlay' value='yes' /><param name='display_count' value='yes' /><param name='filter' value='publish=yes' /></object></div>                <script type='text/javascript'>                    var divElement = document.getElementById('viz1587603522067');                    var vizElement = divElement.getElementsByTagName('object')[0];                    vizElement.style.width='100%';vizElement.style.height=(divElement.offsetWidth*0.75)+'px';                    var scriptElement = document.createElement('script');                    scriptElement.src = 'https://public.tableau.com/javascripts/api/viz_v1.js';                    vizElement.parentNode.insertBefore(scriptElement, vizElement);                </script>\")"
      ],
      "execution_count": 0,
      "outputs": [
        {
          "output_type": "execute_result",
          "data": {
            "text/html": [
              "<div class='tableauPlaceholder' id='viz1587603522067' style='position: relative'><noscript><a href=''><img alt=' ' src='https:&#47;&#47;public.tableau.com&#47;static&#47;images&#47;5C&#47;5C5XS82FR&#47;1_rss.png' style='border: none' /></a></noscript><object class='tableauViz'  style='display:none;'><param name='host_url' value='https%3A%2F%2Fpublic.tableau.com%2F' /> <param name='embed_code_version' value='3' /> <param name='path' value='shared&#47;5C5XS82FR' /> <param name='toolbar' value='yes' /><param name='static_image' value='https:&#47;&#47;public.tableau.com&#47;static&#47;images&#47;5C&#47;5C5XS82FR&#47;1.png' /> <param name='animate_transition' value='yes' /><param name='display_static_image' value='yes' /><param name='display_spinner' value='yes' /><param name='display_overlay' value='yes' /><param name='display_count' value='yes' /><param name='filter' value='publish=yes' /></object></div>                <script type='text/javascript'>                    var divElement = document.getElementById('viz1587603522067');                    var vizElement = divElement.getElementsByTagName('object')[0];                    vizElement.style.width='100%';vizElement.style.height=(divElement.offsetWidth*0.75)+'px';                    var scriptElement = document.createElement('script');                    scriptElement.src = 'https://public.tableau.com/javascripts/api/viz_v1.js';                    vizElement.parentNode.insertBefore(scriptElement, vizElement);                </script>"
            ],
            "text/plain": [
              "<IPython.core.display.HTML object>"
            ]
          },
          "metadata": {
            "tags": []
          },
          "execution_count": 2
        }
      ]
    },
    {
      "cell_type": "markdown",
      "metadata": {
        "id": "SvWfnlDjnos1",
        "colab_type": "text"
      },
      "source": [
        "## Conclusion"
      ]
    },
    {
      "cell_type": "markdown",
      "metadata": {
        "id": "rfWefr2gnxOG",
        "colab_type": "text"
      },
      "source": [
        "Our original goal in this project was to compare the ebola virus outbreak versus the corona virus outbreak. Both of these viruses had different impacts in the world. We want to see the effects that each one of these viruses brought. Both of these viruses spread at different rates and had different impacts globally. This project really helped us see which countries were affected more by the ebola outbreak. West African countries were mostly affected by this epidemic during the years of 2014 and 2016. In comparison to COVID-19 there are different approaches that were taken and how it impacted the different communities. After analyzing this data it was interesting how it showed us the various trends that happened and predictions about future viruses. The ebola virus in our data model showed to occur slowly at first and then increased as years went on, while COVID-19 spread way faster. The data taught us which countries took the virus in a more serious manner and predict who had more precautions.  Overall both of these viruses happened globally and affected communities and several countries in different ways. \n"
      ]
    },
    {
      "cell_type": "code",
      "metadata": {
        "id": "GiYDwrUYn0k0",
        "colab_type": "code",
        "colab": {}
      },
      "source": [
        ""
      ],
      "execution_count": 0,
      "outputs": []
    }
  ]
}