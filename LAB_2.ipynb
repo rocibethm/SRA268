{
  "nbformat": 4,
  "nbformat_minor": 0,
  "metadata": {
    "colab": {
      "name": "LAB 2",
      "provenance": [],
      "collapsed_sections": [],
      "authorship_tag": "ABX9TyN7NdyBDQ0hwGxhvjOGZ/5l",
      "include_colab_link": true
    },
    "kernelspec": {
      "name": "python3",
      "display_name": "Python 3"
    }
  },
  "cells": [
    {
      "cell_type": "markdown",
      "metadata": {
        "id": "view-in-github",
        "colab_type": "text"
      },
      "source": [
        "<a href=\"https://colab.research.google.com/github/rocibethm/SRA268/blob/master/LAB_2.ipynb\" target=\"_parent\"><img src=\"https://colab.research.google.com/assets/colab-badge.svg\" alt=\"Open In Colab\"/></a>"
      ]
    },
    {
      "cell_type": "markdown",
      "metadata": {
        "id": "WFdhAyFGt5TH",
        "colab_type": "text"
      },
      "source": [
        "#**Graph Types**"
      ]
    },
    {
      "cell_type": "markdown",
      "metadata": {
        "id": "lyFfGkCPuVJE",
        "colab_type": "text"
      },
      "source": [
        "Rocibeth Mendiola"
      ]
    },
    {
      "cell_type": "markdown",
      "metadata": {
        "id": "oagwIIPTxLOZ",
        "colab_type": "text"
      },
      "source": [
        "### **Deviation**"
      ]
    },
    {
      "cell_type": "markdown",
      "metadata": {
        "id": "8TyP-U0HuUDw",
        "colab_type": "text"
      },
      "source": [
        "![alt text](https://raw.githubusercontent.com/rocibethm/SRA268/master/images/Screen%20Shot%202020-02-20%20at%2012.53.45%20PM.png)"
      ]
    },
    {
      "cell_type": "markdown",
      "metadata": {
        "id": "_16qp9MjuW6K",
        "colab_type": "text"
      },
      "source": [
        "**What is this telling us?**\n",
        "\n",
        "This graph is showing us the sum of winning points in each season using diverging bars. A diverging bar graph shows the deviation where it emphasizes variation using a fixed point. Diverging bars are used to show both negative and positive magnitude values. In this graph the blue bars are demonstrating positve values. The darker the blue the higher the number is, while the lighter blue means the number is smaller. The orange bars represent the negative values. The darker orange represent larger negative numbers while the lighter shades of orange show smaller negative values. The different shades of orange and blue make it easy to see the differences."
      ]
    },
    {
      "cell_type": "markdown",
      "metadata": {
        "id": "9UVvV73twv-2",
        "colab_type": "text"
      },
      "source": [
        "### **Correlation**"
      ]
    },
    {
      "cell_type": "markdown",
      "metadata": {
        "id": "qs7riWv4xZV5",
        "colab_type": "text"
      },
      "source": [
        "![alt text](https://raw.githubusercontent.com/rocibethm/SRA268/master/images/Screen%20Shot%202020-02-20%20at%201.05.22%20PM.png)"
      ]
    },
    {
      "cell_type": "markdown",
      "metadata": {
        "id": "VcX2eI2UyDmt",
        "colab_type": "text"
      },
      "source": [
        "**What is this telling us?**\n",
        "\n",
        "Correlation is used to show the relationship between two or more points. This graph is demonstrating the relationship between the winning and losing point among the year of the season. I decided to use a scatterplot because it shows a good representation of the relationship between the two continuous variables and each has its own axis. This orange dots represents the winning points while the blue dots represent the losing points. This is a great representation to show you the relationship between the winning and losing points of the season. I learned that using two different colors makes it easy to differentiate between the two variables."
      ]
    },
    {
      "cell_type": "markdown",
      "metadata": {
        "id": "plLTy2tpyNWC",
        "colab_type": "text"
      },
      "source": [
        "### **Ranking**"
      ]
    },
    {
      "cell_type": "markdown",
      "metadata": {
        "id": "cOZbg7ndyZHL",
        "colab_type": "text"
      },
      "source": [
        "![alt text](https://raw.githubusercontent.com/rocibethm/SRA268/master/images/Screen%20Shot%202020-02-20%20at%201.13.13%20PM.png)"
      ]
    },
    {
      "cell_type": "markdown",
      "metadata": {
        "id": "QMDQcocqz1Nh",
        "colab_type": "text"
      },
      "source": [
        "**What is this telling us?**\n",
        "\n",
        "This graph is representing ranking which highlights the positioning of the data relative to one another. It is ranking the winning mascot with the most amount of winning points. As you can tell the Wildcat mascot has the most winning points, so it is the most popular mascot. This is an ordered bar which display the ranks of values much more easily when sorted in order. The different colors show what mascot has the highest rank and the lowest rank. This ordered bar goes from the lowest rank to the highest. The lowest rank is shown in dark green and as the mascot rank increases it goes to yellow and then orange. "
      ]
    },
    {
      "cell_type": "markdown",
      "metadata": {
        "id": "NcXc1pdPz-z2",
        "colab_type": "text"
      },
      "source": [
        "### **Distribuition**"
      ]
    },
    {
      "cell_type": "markdown",
      "metadata": {
        "id": "1wWXsV_f0NAk",
        "colab_type": "text"
      },
      "source": [
        "![alt text](https://raw.githubusercontent.com/rocibethm/SRA268/master/images/Screen%20Shot%202020-02-20%20at%201.17.13%20PM.png)"
      ]
    },
    {
      "cell_type": "markdown",
      "metadata": {
        "id": "NltZP5610kL-",
        "colab_type": "text"
      },
      "source": [
        "**What is this telling us?**\n",
        "\n",
        "Distribution in a graph is used to show the values of the dataset and how often they occur and also the skewness can help highlight the patter. For example this graph is showing us that this dataset is skewed a bit to the left. I created a histogram because it helps higlight the shape of the data. This makes it helpful because you are able to see when a graph is skewed to the right, left or its symmetric. I learned that in this graph you can tell that most of the wining points range from 49.7 to 106.5. Also keeping gaps between the bars helps view the distribution of the graph. "
      ]
    },
    {
      "cell_type": "markdown",
      "metadata": {
        "id": "CW79_3Ua0rJC",
        "colab_type": "text"
      },
      "source": [
        "### **Change Over Time**"
      ]
    },
    {
      "cell_type": "markdown",
      "metadata": {
        "id": "bn9OxeaS0uaG",
        "colab_type": "text"
      },
      "source": [
        "![alt text](https://raw.githubusercontent.com/rocibethm/SRA268/master/images/Screen%20Shot%202020-02-20%20at%201.20.21%20PM.png)"
      ]
    },
    {
      "cell_type": "markdown",
      "metadata": {
        "id": "_l15OP7h1R3f",
        "colab_type": "text"
      },
      "source": [
        "**What is this telling us?**\n",
        "\n",
        "This is a line graph that shows the change over time between winning points and the season. Change over time shows the trend of the data. And the line graph specifially shows a changing time series. In this case you can tell that the graph increases in winning points during the season of the years of 1988 to 1990. This graph also shows irregularity because it increases and decreases often over the different years of the seasons and at some periods it stays steady. For example it does this during the year of 1993 and 1998 The winning points on the axis of the graph are increasing by 2000. "
      ]
    },
    {
      "cell_type": "markdown",
      "metadata": {
        "id": "1ELZOnUM1U3H",
        "colab_type": "text"
      },
      "source": [
        "### **Magnitude**"
      ]
    },
    {
      "cell_type": "markdown",
      "metadata": {
        "id": "yjR4PcKK1jf9",
        "colab_type": "text"
      },
      "source": [
        "![alt text](https://raw.githubusercontent.com/rocibethm/SRA268/master/images/Screen%20Shot%202020-02-20%20at%201.23.07%20PM.png)"
      ]
    },
    {
      "cell_type": "markdown",
      "metadata": {
        "id": "OBXe8cR32AXZ",
        "colab_type": "text"
      },
      "source": [
        "**What is this telling us?**\n",
        "\n",
        "Mangnitude represents the comparison of data and it is often binned. Which means the data is being grouped together. I chose a column chart becuse I think it demonstrated a good graph of magnitude. Column charts are typically used in order to compare the size of things. Column charts have to start at 0 on the axis, in this graph the winning points start at 0. The graph also shows every year and their winning points starting in 1985 through 2017. The different sized columns show the amount of winning points depending on the height of the column. The higher the column the more winning points they had that year. "
      ]
    },
    {
      "cell_type": "markdown",
      "metadata": {
        "id": "wPN9QWHY2Bze",
        "colab_type": "text"
      },
      "source": [
        "### **Part-to-Whole**"
      ]
    },
    {
      "cell_type": "markdown",
      "metadata": {
        "id": "E4anMDEI2IzH",
        "colab_type": "text"
      },
      "source": [
        "![alt text](https://raw.githubusercontent.com/rocibethm/SRA268/master/images/Screen%20Shot%202020-02-20%20at%201.25.36%20PM.png)"
      ]
    },
    {
      "cell_type": "markdown",
      "metadata": {
        "id": "TyAY56gB2eoS",
        "colab_type": "text"
      },
      "source": [
        "**What is this telling us?**\n",
        "\n",
        "A pie chart is a great demonstration of a part to whole graph because it shows the different sections and their proportion to that particular section. In this pie chart I compared the amount of winning points among the mascots. As you can tell the Wildcat has the biggest propotion of winning points compared to all the other sections. While humans have the lowest percentage of winning points. The different proportions linked to a different color and percentage make the graph easy to understand, and for this reason pie charts are one of the most popular graphs to use when comparing different data. "
      ]
    }
  ]
}