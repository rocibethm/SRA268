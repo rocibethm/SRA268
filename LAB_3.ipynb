{
  "nbformat": 4,
  "nbformat_minor": 0,
  "metadata": {
    "colab": {
      "name": "LAB 3",
      "provenance": [],
      "authorship_tag": "ABX9TyNrVO8sojesH9VrKY6T+Bv8",
      "include_colab_link": true
    },
    "kernelspec": {
      "name": "python3",
      "display_name": "Python 3"
    }
  },
  "cells": [
    {
      "cell_type": "markdown",
      "metadata": {
        "id": "view-in-github",
        "colab_type": "text"
      },
      "source": [
        "<a href=\"https://colab.research.google.com/github/rocibethm/SRA268/blob/master/LAB_3.ipynb\" target=\"_parent\"><img src=\"https://colab.research.google.com/assets/colab-badge.svg\" alt=\"Open In Colab\"/></a>"
      ]
    },
    {
      "cell_type": "markdown",
      "metadata": {
        "id": "uvkwm76rwper",
        "colab_type": "text"
      },
      "source": [
        "# **COVID-19 Cases by Country Animation**"
      ]
    },
    {
      "cell_type": "markdown",
      "metadata": {
        "id": "yVnHlbwNyHiu",
        "colab_type": "text"
      },
      "source": [
        "### Rocibeth Mendiola"
      ]
    },
    {
      "cell_type": "markdown",
      "metadata": {
        "id": "dOLk9MOIyK7U",
        "colab_type": "text"
      },
      "source": [
        "# **Coronavirus- John Hopkins Data**"
      ]
    },
    {
      "cell_type": "markdown",
      "metadata": {
        "id": "N3WUASxQy2Kz",
        "colab_type": "text"
      },
      "source": [
        "All data is from Novel Coronavirus (COVID-19) Cases, provided by Johns Hopkins CSSE - Johns Hopkins GitHub"
      ]
    },
    {
      "cell_type": "markdown",
      "metadata": {
        "id": "Dt677BuRw3H6",
        "colab_type": "text"
      },
      "source": [
        "![alt text](https://raw.githubusercontent.com/rocibethm/SRA268/master/images/Screen%20Shot%202020-04-01%20at%206.48.55%20PM.png)"
      ]
    }
  ]
}